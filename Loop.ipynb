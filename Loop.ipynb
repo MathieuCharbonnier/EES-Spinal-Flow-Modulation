{
  "nbformat": 4,
  "nbformat_minor": 0,
  "metadata": {
    "colab": {
      "provenance": []
    },
    "kernelspec": {
      "name": "python3",
      "display_name": "Python 3"
    },
    "language_info": {
      "name": "python"
    }
  },
  "cells": [
    {
      "cell_type": "code",
      "execution_count": 1,
      "metadata": {
        "collapsed": true,
        "id": "84aMAvTHeTq7"
      },
      "outputs": [],
      "source": [
        "%%capture output\n",
        "!pip install brian2\n",
        "!pip install -q condacolab\n",
        "import condacolab\n",
        "condacolab.install()\n",
        "!conda create -y -n opensim_env python=3.10\n",
        "!source /usr/local/etc/profile.d/conda.sh && conda activate opensim_env && conda install -y -c opensim-org opensim pandas\n",
        "!wget https://raw.githubusercontent.com/MathieuCharbonnier/Loop/refs/heads/main/activation.py\n",
        "!wget https://raw.githubusercontent.com/MathieuCharbonnier/Loop/refs/heads/main/muscle_sim.py\n",
        "!wget https://raw.githubusercontent.com/MathieuCharbonnier/Loop/refs/heads/main/neural_simulations.py\n",
        "!wget https://raw.githubusercontent.com/MathieuCharbonnier/Loop/refs/heads/main/plot_time_series.py\n",
        "\n"
      ]
    },
    {
      "cell_type": "code",
      "source": [
        "%%capture output\n",
        "!unzip Model.zip"
      ],
      "metadata": {
        "collapsed": true,
        "id": "QNFGM6RS8VHw"
      },
      "execution_count": 1,
      "outputs": []
    },
    {
      "cell_type": "code",
      "source": [
        "%load_ext autoreload\n",
        "%autoreload 2\n",
        "\n",
        "from brian2 import *\n",
        "import numpy as np\n",
        "import pandas as pd\n",
        "import os\n",
        "import subprocess\n",
        "import tempfile\n",
        "import json\n",
        "import matplotlib.pyplot as plt\n",
        "from scipy.signal import find_peaks\n",
        "from scipy.integrate import solve_ivp\n",
        "from scipy.interpolate import interp1d\n",
        "from collections import defaultdict\n",
        "\n",
        "from plot_time_series import plot_times_series\n",
        "from neural_simulations import run_neural_simulations\n",
        "from activation import decode_spikes_to_activation\n"
      ],
      "metadata": {
        "id": "lau6jmivficg"
      },
      "execution_count": 2,
      "outputs": []
    },
    {
      "cell_type": "code",
      "source": [
        "def RampHold(T_reaction, dt, v=0.2, t_ramp=0.1*second, t_hold=0.3*second, plot=False):\n",
        "\n",
        "  time = np.arange(0, T_reaction, dt)\n",
        "\n",
        "  stretch = np.piecewise(\n",
        "      time,\n",
        "      [time < t_ramp/second,\n",
        "      (time >= t_ramp/second) & (time < t_hold/second),\n",
        "      time >= t_hold/second],\n",
        "      [lambda t: v * t,\n",
        "      lambda t: v * t_ramp/second,\n",
        "      lambda t: v * t_ramp/second - v * (t - t_hold/second)]\n",
        "  )\n",
        "  velocity = np.gradient(stretch, dt)\n",
        "  if plot:\n",
        "    plt.plot(time, stretch)\n",
        "    plt.xlabel('Time (s)')\n",
        "    plt.ylabel('Stretch (a.u)')\n",
        "    plt.title('Initial Ramp-Hold Stretch Profile')\n",
        "    plt.show()\n",
        "  return stretch, velocity\n",
        "\n",
        "def SinusoidalStretch(dt,T_reaction, A=0.01, f=2*hertz, plot=False):\n",
        "\n",
        "  time = np.arange(0, T_reaction, dt)\n",
        "  stretch = A * np.sin(2 * np.pi * f/hertz * time)\n",
        "  velocity = np.gradient(stretch, dt)\n",
        "  if plot:\n",
        "    plt.plot(time, stretch)\n",
        "    plt.xlabel('Time (s)')\n",
        "    plt.ylabel('Stretch (a.u)')\n",
        "    plt.title('Initial Sinusoidal Stretch Profile')\n",
        "    plt.show()\n",
        "\n",
        "  return stretch, velocity\n",
        "\n",
        "def NoInput(dt, T_reaction):\n",
        "\n",
        "  time = np.arange(0, T_reaction, dt)\n",
        "  stretch = np.zeros_like(time)\n",
        "  velocity = np.zeros_like(time)\n",
        "  return stretch, velocity\n"
      ],
      "metadata": {
        "id": "0AWpJREPS5wI"
      },
      "execution_count": 3,
      "outputs": []
    },
    {
      "cell_type": "code",
      "source": [
        "total_time= 1*second\n",
        "t_stretching_afferent = 15*ms\n",
        "t_motoneuron_muscle = 10*ms\n",
        "t_reaction = t_stretching_afferent + t_motoneuron_muscle\n",
        "#n_loop = int(total_time/t_reaction)\n",
        "n_loop=2\n",
        "dt = 0.1*ms\n",
        "\n",
        "p,w=0.4,500*uS\n",
        "neuron_population = {\"Ia\": 10, \"II\": 10, \"exc\": 10, \"motor\": 10}\n",
        "\n",
        "initial_values_decoding_spikes={i: {'u0': [0.0, 0.0], 'c0': [0.0, 0.0], 'P0':[0.0], 'a0':[0.0]} for i in range(neuron_population[\"motor\"])}\n",
        "\n",
        "muscle_name = \"iliacus_r\"\n",
        "stretch, velocity = RampHold(t_reaction, dt, v=2, t_ramp=5*ms, t_hold=15*ms, plot=True)\n",
        "\n",
        "name_output_spikes = 'spikes.json'\n",
        "name_output_muscle='df_muscle.csv'\n",
        "data_muscle = []\n",
        "data_spikes = {\n",
        "    \"Ia\": defaultdict(list),\n",
        "    \"II\": defaultdict(list),\n",
        "    \"MN\": defaultdict(list)\n",
        "}\n",
        "intermediate_state_opensim='state.sto'\n",
        "resting_length=None\n",
        "\n",
        "for j in range(n_loop):\n",
        "\n",
        "    print(f\"--- Iteration {j+1} ---\")\n",
        "    spikes_all=run_neural_simulations(stretch, velocity, neuron_population,dt,t_reaction, w_run=500*uS, p_run=0.4 )\n",
        "    for fiber_name, fiber_spikes in spikes_all.items():\n",
        "      for neuron_id, spikes in fiber_spikes.items():\n",
        "        data_spikes[fiber_name][neuron_id].extend(spikes/second+j*t_reaction/second)\n",
        "\n",
        "    u,c,p,activations, final_values=decode_spikes_to_activation([value/second for key, value in spikes_all[\"MN\"].items()], dt/second, t_reaction/second, initial_values_decoding_spikes)\n",
        "    mean_activation = np.mean(activations, axis=0)\n",
        "    initial_values_decoding_spikes =final_values\n",
        "\n",
        "    # Create temporary files for both input and output\n",
        "    with tempfile.NamedTemporaryFile(suffix='.npy', delete=False) as input_tmp, \\\n",
        "        tempfile.NamedTemporaryFile(suffix='.npy', delete=False) as output_tmp:\n",
        "\n",
        "        input_path = input_tmp.name\n",
        "        output_path = output_tmp.name\n",
        "        np.save(input_path, mean_activation)\n",
        "\n",
        "        # Set up continue_from and convert to string properly\n",
        "        continue_from = intermediate_state_opensim if j > 0 else \"\"\n",
        "\n",
        "        cmd = [\n",
        "            'conda', 'run', '-n', 'opensim_env', 'python', 'muscle_sim.py',\n",
        "            '--dt', str(dt/second),\n",
        "            '--T', str(t_reaction/second),\n",
        "            '--muscle', muscle_name,\n",
        "            '--input_file', input_path,\n",
        "            '--output_file', output_path\n",
        "        ]\n",
        "        if j > 0:  # Only add continue_from after first iteration\n",
        "            cmd.extend(['--continue_from', continue_from])\n",
        "\n",
        "        # Always add save_state\n",
        "        cmd.extend(['--save_state', intermediate_state_opensim])\n",
        "\n",
        "        # Run the process in the other environment\n",
        "        process = subprocess.run(cmd, capture_output=True, text=True)\n",
        "\n",
        "        if process.stdout.strip():\n",
        "            print(\"STDOUT:\\n\", process.stdout)\n",
        "\n",
        "        if process.returncode == 0 and os.path.getsize(output_path) > 0:\n",
        "            fiber_length=np.load(output_path)[:-1]\n",
        "            if j == 0:\n",
        "              resting_length=fiber_length[0]\n",
        "            stretch=fiber_length/resting_length-1\n",
        "\n",
        "            # Create batch data dictionary\n",
        "            batch_data_muscle = {\n",
        "              **{f'activation_{i}': activations[i] for i in range(neuron_population['motor'])},\n",
        "              'activation_mean': mean_activation,\n",
        "              'fiber_length': fiber_length,\n",
        "              'stretch': stretch,\n",
        "              'velocity': np.gradient(stretch)\n",
        "            }\n",
        "            data_muscle.append(pd.DataFrame(batch_data_muscle))\n",
        "        else:\n",
        "          raise RuntimeError(f'Problem in iteration {j}. STDERR: {process.stderr}')\n",
        "\n",
        "        # Clean up temporary files\n",
        "        os.unlink(input_path)\n",
        "        os.unlink(output_path)\n",
        "\n",
        "df_muscle = pd.concat(data_muscle)\n",
        "df_muscle['Time']=np.arange(0, len(df_muscle)*dt, dt)\n",
        "df_muscle.to_csv(name_output_muscle, index=False)\n",
        "\n",
        "with open(name_output_spikes, \"w\") as f:\n",
        "    json.dump(data_spikes, f, indent=4)\n",
        "\n",
        "plot_times_series(name_output_spikes, name_output_muscle)"
      ],
      "metadata": {
        "colab": {
          "base_uri": "https://localhost:8080/",
          "height": 1000
        },
        "id": "CR18Q6q_mYDz",
        "outputId": "c325597c-785b-4330-e22d-b4670c23b727"
      },
      "execution_count": 33,
      "outputs": [
        {
          "output_type": "display_data",
          "data": {
            "text/plain": [
              "<Figure size 640x480 with 1 Axes>"
            ],
            "image/png": "[encoded data removed]"
          },
          "metadata": {}
        },
        {
          "output_type": "stream",
          "name": "stdout",
          "text": [
            "--- Iteration 1 ---\n",
            "STDOUT:\n",
            " [info] Updating Model file from 40500 to latest format...\n",
            "[info] Loaded model 3DGaitModel2392 from file Model/gait2392_millard2012_pelvislocked.osim\n",
            "\n",
            "\n"
          ]
        },
        {
          "output_type": "error",
          "ename": "RuntimeError",
          "evalue": "Problem in iteration 0. STDERR: Traceback (most recent call last):\n  File \"/content/muscle_sim.py\", line 82, in <module>\n    fiber_length = run_simulation(\n  File \"/content/muscle_sim.py\", line 58, in run_simulation\n    state.write(save_state)\nAttributeError: 'State' object has no attribute 'write'\n\nERROR conda.cli.main_run:execute(125): `conda run python muscle_sim.py --dt 0.0001 --T 0.025 --muscle iliacus_r --input_file /tmp/tmp2u98etjq.npy --output_file /tmp/tmpzo3zpt2j.npy --save_state state.sto` failed. (See above for error)\n",
          "traceback": [
            "\u001b[0;31m---------------------------------------------------------------------------\u001b[0m",
            "\u001b[0;31mRuntimeError\u001b[0m                              Traceback (most recent call last)",
            "\u001b[0;32m<ipython-input-33-85bfcb6a9fd9>\u001b[0m in \u001b[0;36m<cell line: 0>\u001b[0;34m()\u001b[0m\n\u001b[1;32m     85\u001b[0m             \u001b[0mdata_muscle\u001b[0m\u001b[0;34m.\u001b[0m\u001b[0mappend\u001b[0m\u001b[0;34m(\u001b[0m\u001b[0mpd\u001b[0m\u001b[0;34m.\u001b[0m\u001b[0mDataFrame\u001b[0m\u001b[0;34m(\u001b[0m\u001b[0mbatch_data_muscle\u001b[0m\u001b[0;34m)\u001b[0m\u001b[0;34m)\u001b[0m\u001b[0;34m\u001b[0m\u001b[0;34m\u001b[0m\u001b[0m\n\u001b[1;32m     86\u001b[0m         \u001b[0;32melse\u001b[0m\u001b[0;34m:\u001b[0m\u001b[0;34m\u001b[0m\u001b[0;34m\u001b[0m\u001b[0m\n\u001b[0;32m---> 87\u001b[0;31m           \u001b[0;32mraise\u001b[0m \u001b[0mRuntimeError\u001b[0m\u001b[0;34m(\u001b[0m\u001b[0;34mf'Problem in iteration {j}. STDERR: {process.stderr}'\u001b[0m\u001b[0;34m)\u001b[0m\u001b[0;34m\u001b[0m\u001b[0;34m\u001b[0m\u001b[0m\n\u001b[0m\u001b[1;32m     88\u001b[0m \u001b[0;34m\u001b[0m\u001b[0m\n\u001b[1;32m     89\u001b[0m         \u001b[0;31m# Clean up temporary files\u001b[0m\u001b[0;34m\u001b[0m\u001b[0;34m\u001b[0m\u001b[0m\n",
            "\u001b[0;31mRuntimeError\u001b[0m: Problem in iteration 0. STDERR: Traceback (most recent call last):\n  File \"/content/muscle_sim.py\", line 82, in <module>\n    fiber_length = run_simulation(\n  File \"/content/muscle_sim.py\", line 58, in run_simulation\n    state.write(save_state)\nAttributeError: 'State' object has no attribute 'write'\n\nERROR conda.cli.main_run:execute(125): `conda run python muscle_sim.py --dt 0.0001 --T 0.025 --muscle iliacus_r --input_file /tmp/tmp2u98etjq.npy --output_file /tmp/tmpzo3zpt2j.npy --save_state state.sto` failed. (See above for error)\n"
          ]
        }
      ]
    }
  ]
}