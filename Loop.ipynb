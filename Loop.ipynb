{
  "nbformat": 4,
  "nbformat_minor": 0,
  "metadata": {
    "colab": {
      "provenance": []
    },
    "kernelspec": {
      "name": "python3",
      "display_name": "Python 3"
    },
    "language_info": {
      "name": "python"
    }
  },
  "cells": [
    {
      "cell_type": "code",
      "execution_count": 1,
      "metadata": {
        "collapsed": true,
        "id": "84aMAvTHeTq7"
      },
      "outputs": [],
      "source": [
        "%%capture output\n",
        "!pip install brian2\n",
        "!pip install -q condacolab\n",
        "import condacolab\n",
        "condacolab.install()\n",
        "!conda create -y -n opensim_env python=3.10\n",
        "!source /usr/local/etc/profile.d/conda.sh && conda activate opensim_env && conda install -y -c opensim-org opensim\n",
        "!wget https://raw.githubusercontent.com/MathieuCharbonnier/Loop/refs/heads/main/activation.py\n",
        "!wget https://raw.githubusercontent.com/MathieuCharbonnier/Loop/refs/heads/main/muscle_sim.py\n",
        "!wget https://raw.githubusercontent.com/MathieuCharbonnier/Loop/refs/heads/main/neural_simulations.py\n",
        "!wget https://raw.githubusercontent.com/MathieuCharbonnier/Loop/refs/heads/main/plot_time_series.py\n",
        "\n"
      ]
    },
    {
      "cell_type": "code",
      "source": [
        "%%capture output\n",
        "!unzip Model.zip"
      ],
      "metadata": {
        "collapsed": true,
        "id": "QNFGM6RS8VHw"
      },
      "execution_count": 1,
      "outputs": []
    },
    {
      "cell_type": "code",
      "source": [
        "%load_ext autoreload\n",
        "%autoreload 2\n",
        "\n",
        "from brian2 import *\n",
        "import numpy as np\n",
        "import pandas as pd\n",
        "import os\n",
        "import subprocess\n",
        "import matplotlib.pyplot as plt\n",
        "from scipy.signal import find_peaks\n",
        "from scipy.integrate import solve_ivp\n",
        "from scipy.interpolate import interp1d\n",
        "from collections import defaultdict\n",
        "\n",
        "from plot_time_series import plot_times_series, load_sto_file\n",
        "from neural_simulations import run_neural_simulations\n",
        "from activation import decode_spikes_to_activation\n"
      ],
      "metadata": {
        "id": "lau6jmivficg",
        "outputId": "776d1993-214a-4e2c-ffd4-fbb6b2332f7d",
        "colab": {
          "base_uri": "https://localhost:8080/"
        }
      },
      "execution_count": 4,
      "outputs": [
        {
          "output_type": "stream",
          "name": "stdout",
          "text": [
            "The autoreload extension is already loaded. To reload it, use:\n",
            "  %reload_ext autoreload\n"
          ]
        }
      ]
    },
    {
      "cell_type": "code",
      "source": [
        "def Ramp_Hold(T_reaction, dt, v=0.2, t_ramp=0.1, t_hold=0.3, plot=False):\n",
        "\n",
        "  time = np.arange(0, T_reaction, dt)\n",
        "\n",
        "  stretch = np.piecewise(\n",
        "      time,\n",
        "      [time < t_ramp,\n",
        "      (time >= t_ramp) & (time < t_hold),\n",
        "      time >= t_hold],\n",
        "      [lambda t: v * t,\n",
        "      lambda t: v * t_ramp,\n",
        "      lambda t: v * t_ramp - v * (t - t_hold)]\n",
        "  )\n",
        "  velocity = np.gradient(stretch, dt)\n",
        "  if plot:\n",
        "    plt.plot(time, stretch)\n",
        "    plt.xlabel('Time (s)')\n",
        "    plt.ylabel('Stretch (m)')\n",
        "    plt.title('Ramp-Hold Stretch Profile')\n",
        "    plt.show()\n",
        "  return stretch, velocity\n",
        "\n",
        "def Sinusoidal_stretch(dt,T_reaction, A=0.01, f=2, plot=False):\n",
        "\n",
        "  time = np.arange(0, T_reaction, dt)\n",
        "  stretch = A * np.sin(2 * np.pi * f * time)\n",
        "  velocity = np.gradient(stretch, dt)\n",
        "  if plot:\n",
        "    plt.plot(time, stretch)\n",
        "    plt.xlabel('Time (s)')\n",
        "    plt.ylabel('Stretch (m)')\n",
        "    plt.title('Sinusoidal Stretch Profile')\n",
        "    plt.show()\n",
        "\n",
        "  return stretch, velocity"
      ],
      "metadata": {
        "id": "0AWpJREPS5wI"
      },
      "execution_count": 11,
      "outputs": []
    },
    {
      "cell_type": "code",
      "source": [
        "t_stretching_afferent = 16*ms\n",
        "t_motoneuron_muscle = 10*ms\n",
        "t_reaction = t_stretching_afferent + t_motoneuron_muscle\n",
        "n_loop = 1\n",
        "dt = 0.1*ms\n",
        "\n",
        "name_temporary_input_opensim = 'activation.npy'\n",
        "name_temporary_output_opensim = 'muscle_output.sto'\n",
        "name_output_spikes = 'spikes.json'\n",
        "name_output_muscle='muscle.df'\n",
        "\n",
        "neuron_population = {\"Ia\": 10, \"II\": 10, \"exc\": 10, \"motor\": 10}\n",
        "\n",
        "# Initialize stretch and velocity arrays\n",
        "#stretch_init = np.zeros(int(t_reaction/dt))\n",
        "#velocity_init = np.zeros(int(t_reaction/dt))\n",
        "\n",
        "stretch, velocity = Ramp_Hold(t_reaction, dt, v=0.2, t_ramp=0.1, t_hold=0.3)\n",
        "\n",
        "data_muscle = []\n",
        "data_spikes = {\n",
        "    \"Ia\": defaultdict(list),\n",
        "    \"II\": defaultdict(list),\n",
        "    \"MN\": defaultdict(list)\n",
        "}\n",
        "for j in range(n_loop):\n",
        "\n",
        "    spikes=run_neural_simulations(stretch, velocity, neuron_population,dt,t_reaction, w_run=500*uS, p_run=0.4 )\n",
        "    for fiber_type, spikes_values in spikes.items():\n",
        "      for neuron_id, spikes in spikes_values.items():\n",
        "        data_spikes[fiber_type][neuron_id].extend(spikes)\n",
        "\n",
        "    activations=decode_spikes_to_activation([[t/second for t in value] for key, value in spikes[\"MN\"].items()], dt/second, t_reaction/second)\n",
        "    mean_activation = np.mean(activations, axis=0)\n",
        "    np.save(name_temporary_input_opensim, mean_activation)\n",
        "    !source /usr/local/etc/profile.d/conda.sh && conda activate opensim_env && python muscle_sim.py --dt {dt_second} --T {t_reaction_second} --activation {name_activation}  --output {name_output_opensim}\n",
        "\n",
        "    table = load_sto_file(name_temporary_output_opensim)[:-1] #don't include the last element\n",
        "\n",
        "    # Create batch data dictionary\n",
        "    batch_data_muscle = {\n",
        "        **{f'activation_{i}': activations[i] for i in range(neuron_population['motor'])},\n",
        "        'activation_mean': mean_activation,\n",
        "        'stretch': table['stretch'].values,\n",
        "        'velocity': table['velocity'].values,\n",
        "        'fiber_length': table['fiber_length'].values,\n",
        "        'fiber_velocity': table['fiber_velocity'].values\n",
        "    }\n",
        "\n",
        "    data_muscle.append(pd.DataFrame(batch_data_muscle))\n",
        "\n",
        "# Create DataFrame and apply time shifts\n",
        "df_muscle = pd.concat(data_muscle)\n",
        "\n",
        "df_muscle['Time']=df_muscle.index*dt/second\n",
        "# Save the DataFrame to CSV\n",
        "df_muscle.to_csv(name_output_muscle, index=False)\n",
        "\n",
        "# Plot time series\n",
        "plot_times_series(name_output_spikes, name_output_muscle)"
      ],
      "metadata": {
        "colab": {
          "base_uri": "https://localhost:8080/",
          "height": 424
        },
        "id": "CR18Q6q_mYDz",
        "outputId": "19c9fb43-53f5-4283-9a80-fdef16020c42"
      },
      "execution_count": 13,
      "outputs": [
        {
          "output_type": "stream",
          "name": "stdout",
          "text": [
            "{'Ia': defaultdict(<class 'list'>, {0: [10.7 * msecond], 1: [21.1 * msecond, 21.9 * msecond], 2: [0.7 * msecond, 3. * msecond, 5.1 * msecond, 7.5 * msecond, 23.8 * msecond], 3: [0.8 * msecond, 10.6 * msecond, 14.8 * msecond, 15.9 * msecond, 19.7 * msecond], 4: [6.3 * msecond, 10.6 * msecond], 5: [1.1 * msecond], 6: [], 7: [], 8: [], 9: [9.4 * msecond]}), 'II': defaultdict(<class 'list'>, {0: [18. * msecond, 20.9 * msecond, 24.5 * msecond], 1: [2.9 * msecond, 17.2 * msecond], 2: [12.4 * msecond], 3: [], 4: [5.6 * msecond], 5: [3.5 * msecond, 13.6 * msecond], 6: [6.1 * msecond, 16.8 * msecond, 21.6 * msecond, 22.7 * msecond], 7: [200. * usecond, 7. * msecond, 13.3 * msecond], 8: [], 9: [17.9 * msecond]}), 'MN': defaultdict(<class 'list'>, {0: [13.1 * msecond, 17.7 * msecond, 18.4 * msecond, 19. * msecond, 19.6 * msecond, 22. * msecond, 22.8 * msecond, 23.7 * msecond, 25.3 * msecond], 1: [1.3 * msecond, 3.1 * msecond, 3.4 * msecond, 3.8 * msecond, 4.5 * msecond, 5.2 * msecond, 5.8 * msecond, 6.3 * msecond, 6.5 * msecond, 6.8 * msecond, 7.2 * msecond, 7.4 * msecond, 7.6 * msecond, 7.8 * msecond, 8.2 * msecond, 10.7 * msecond, 13. * msecond, 13.8 * msecond, 14.1 * msecond, 14.6 * msecond, 15.2 * msecond, 17.5 * msecond, 17.8 * msecond, 18.1 * msecond, 18.4 * msecond, 18.6 * msecond, 18.9 * msecond, 19.2 * msecond, 19.6 * msecond, 21.3 * msecond, 21.5 * msecond, 21.9 * msecond, 22.2 * msecond, 22.6 * msecond, 23. * msecond, 23.5 * msecond, 23.9 * msecond, 24.4 * msecond, 25.1 * msecond, 25.6 * msecond], 2: [1.3 * msecond, 3.1 * msecond, 3.5 * msecond, 5.3 * msecond, 6.1 * msecond, 6.5 * msecond, 6.9 * msecond, 7.4 * msecond, 7.7 * msecond, 8.1 * msecond, 13. * msecond, 13.9 * msecond, 14.2 * msecond, 14.7 * msecond, 17.3 * msecond, 17.6 * msecond, 17.9 * msecond, 18.3 * msecond, 18.6 * msecond, 19. * msecond, 19.7 * msecond, 21.4 * msecond, 22. * msecond, 22.2 * msecond, 22.4 * msecond, 22.7 * msecond, 23.2 * msecond, 23.4 * msecond, 23.7 * msecond, 24.1 * msecond, 24.9 * msecond], 3: [3.1 * msecond, 3.5 * msecond, 3.8 * msecond, 4.2 * msecond, 4.9 * msecond, 5.3 * msecond, 6. * msecond, 6.3 * msecond, 6.5 * msecond, 6.7 * msecond, 6.9 * msecond, 7.2 * msecond, 7.4 * msecond, 7.6 * msecond, 7.9 * msecond, 8.6 * msecond, 10. * msecond, 12.9 * msecond, 13.2 * msecond, 13.6 * msecond, 13.8 * msecond, 14. * msecond, 14.2 * msecond, 14.5 * msecond, 14.7 * msecond, 15. * msecond, 15.8 * msecond, 17.4 * msecond, 17.6 * msecond, 17.8 * msecond, 18. * msecond, 18.1 * msecond, 18.3 * msecond, 18.4 * msecond, 18.5 * msecond, 18.7 * msecond, 18.9 * msecond, 19.1 * msecond, 19.3 * msecond, 19.6 * msecond, 20.2 * msecond, 21.4 * msecond, 21.7 * msecond, 22. * msecond, 22.2 * msecond, 22.4 * msecond, 22.6 * msecond, 22.8 * msecond, 23.1 * msecond, 23.3 * msecond, 23.5 * msecond, 23.7 * msecond, 24. * msecond, 24.6 * msecond, 25.1 * msecond, 25.4 * msecond], 4: [3.1 * msecond, 3.8 * msecond, 4.9 * msecond, 5.9 * msecond, 6.4 * msecond, 6.6 * msecond, 6.9 * msecond, 7.3 * msecond, 7.5 * msecond, 7.8 * msecond, 8.7 * msecond, 10.1 * msecond, 10.9 * msecond, 11.6 * msecond, 13. * msecond, 13.7 * msecond, 14.1 * msecond, 14.7 * msecond, 17.3 * msecond, 17.5 * msecond, 17.8 * msecond, 18.1 * msecond, 18.3 * msecond, 18.5 * msecond, 18.8 * msecond, 19.1 * msecond, 19.3 * msecond, 19.6 * msecond, 20.5 * msecond, 21.5 * msecond, 21.9 * msecond, 22.2 * msecond, 22.4 * msecond, 22.6 * msecond, 22.9 * msecond, 23.3 * msecond, 23.5 * msecond, 23.7 * msecond, 24. * msecond, 24.9 * msecond, 25.3 * msecond], 5: [6.3 * msecond, 6.7 * msecond, 7.4 * msecond, 7.8 * msecond, 10.8 * msecond, 12.9 * msecond, 13.4 * msecond, 14. * msecond, 14.3 * msecond, 14.9 * msecond, 17.4 * msecond, 17.8 * msecond, 18.4 * msecond, 18.7 * msecond, 19.5 * msecond, 22. * msecond, 22.3 * msecond, 22.9 * msecond, 23.4 * msecond, 24. * msecond, 25.4 * msecond], 6: [6.6 * msecond, 7.4 * msecond, 10.7 * msecond, 11.1 * msecond, 13. * msecond, 14. * msecond, 17.5 * msecond, 18.3 * msecond, 18.7 * msecond, 19.4 * msecond, 21.3 * msecond, 21.9 * msecond, 22.3 * msecond, 22.7 * msecond, 23.5 * msecond, 25.1 * msecond], 7: [1.1 * msecond, 3.1 * msecond, 3.5 * msecond, 5.3 * msecond, 6.4 * msecond, 7.4 * msecond, 7.7 * msecond, 8.2 * msecond, 10.8 * msecond, 11.3 * msecond, 12.9 * msecond, 13.4 * msecond, 14. * msecond, 14.3 * msecond, 14.9 * msecond, 15.7 * msecond, 16.6 * msecond, 17.5 * msecond, 17.9 * msecond, 18.5 * msecond, 18.9 * msecond, 19.9 * msecond, 21.5 * msecond, 22.2 * msecond, 22.6 * msecond, 23.3 * msecond, 23.7 * msecond, 24.2 * msecond, 25.2 * msecond], 8: [3.1 * msecond, 3.5 * msecond, 6. * msecond, 6.5 * msecond, 7. * msecond, 7.4 * msecond, 7.9 * msecond, 9.7 * msecond, 10.9 * msecond, 12.9 * msecond, 13.2 * msecond, 13.7 * msecond, 14. * msecond, 14.7 * msecond, 15.4 * msecond, 16.4 * msecond, 17.4 * msecond, 17.7 * msecond, 17.9 * msecond, 18.2 * msecond, 18.4 * msecond, 18.6 * msecond, 18.9 * msecond, 19.2 * msecond, 19.5 * msecond, 19.9 * msecond, 20.7 * msecond, 21.6 * msecond, 21.9 * msecond, 22.2 * msecond, 22.4 * msecond, 22.7 * msecond, 23.2 * msecond, 23.4 * msecond, 23.7 * msecond, 24.4 * msecond, 25.1 * msecond, 25.4 * msecond], 9: [3.1 * msecond, 3.7 * msecond, 4.1 * msecond, 4.9 * msecond, 5.3 * msecond, 6. * msecond, 6.4 * msecond, 6.6 * msecond, 6.8 * msecond, 7.2 * msecond, 7.4 * msecond, 7.8 * msecond, 9.6 * msecond, 10.8 * msecond, 13.6 * msecond, 14. * msecond, 14.7 * msecond, 15.2 * msecond, 17.4 * msecond, 17.8 * msecond, 18.1 * msecond, 18.3 * msecond, 18.6 * msecond, 19. * msecond, 19.3 * msecond, 20. * msecond, 21.9 * msecond, 22.6 * msecond, 23.2 * msecond, 23.7 * msecond, 24.7 * msecond, 25.7 * msecond]})}\n"
          ]
        },
        {
          "output_type": "error",
          "ename": "IndexError",
          "evalue": "only integers, slices (`:`), ellipsis (`...`), numpy.newaxis (`None`) and integer or boolean arrays are valid indices",
          "traceback": [
            "\u001b[0;31m---------------------------------------------------------------------------\u001b[0m",
            "\u001b[0;31mIndexError\u001b[0m                                Traceback (most recent call last)",
            "\u001b[0;32m<ipython-input-13-821c2cc731cc>\u001b[0m in \u001b[0;36m<cell line: 0>\u001b[0;34m()\u001b[0m\n\u001b[1;32m     31\u001b[0m         \u001b[0mdata_spikes\u001b[0m\u001b[0;34m[\u001b[0m\u001b[0mfiber_type\u001b[0m\u001b[0;34m]\u001b[0m\u001b[0;34m[\u001b[0m\u001b[0mneuron_id\u001b[0m\u001b[0;34m]\u001b[0m\u001b[0;34m.\u001b[0m\u001b[0mextend\u001b[0m\u001b[0;34m(\u001b[0m\u001b[0mspikes\u001b[0m\u001b[0;34m)\u001b[0m\u001b[0;34m\u001b[0m\u001b[0;34m\u001b[0m\u001b[0m\n\u001b[1;32m     32\u001b[0m     \u001b[0mprint\u001b[0m\u001b[0;34m(\u001b[0m\u001b[0mdata_spikes\u001b[0m\u001b[0;34m)\u001b[0m\u001b[0;34m\u001b[0m\u001b[0;34m\u001b[0m\u001b[0m\n\u001b[0;32m---> 33\u001b[0;31m     \u001b[0mactivations\u001b[0m\u001b[0;34m=\u001b[0m\u001b[0mdecode_spikes_to_activation\u001b[0m\u001b[0;34m(\u001b[0m\u001b[0;34m[\u001b[0m\u001b[0mvalue\u001b[0m\u001b[0;34m/\u001b[0m\u001b[0msecond\u001b[0m \u001b[0;32mfor\u001b[0m \u001b[0mkey\u001b[0m\u001b[0;34m,\u001b[0m \u001b[0mvalue\u001b[0m \u001b[0;32min\u001b[0m \u001b[0mspikes\u001b[0m\u001b[0;34m[\u001b[0m\u001b[0;34m\"MN\"\u001b[0m\u001b[0;34m]\u001b[0m\u001b[0;34m.\u001b[0m\u001b[0mitems\u001b[0m\u001b[0;34m(\u001b[0m\u001b[0;34m)\u001b[0m\u001b[0;34m]\u001b[0m\u001b[0;34m,\u001b[0m \u001b[0mdt\u001b[0m\u001b[0;34m/\u001b[0m\u001b[0msecond\u001b[0m\u001b[0;34m,\u001b[0m \u001b[0mt_reaction\u001b[0m\u001b[0;34m/\u001b[0m\u001b[0msecond\u001b[0m\u001b[0;34m)\u001b[0m\u001b[0;34m\u001b[0m\u001b[0;34m\u001b[0m\u001b[0m\n\u001b[0m\u001b[1;32m     34\u001b[0m     \u001b[0mmean_activation\u001b[0m \u001b[0;34m=\u001b[0m \u001b[0mnp\u001b[0m\u001b[0;34m.\u001b[0m\u001b[0mmean\u001b[0m\u001b[0;34m(\u001b[0m\u001b[0mactivations\u001b[0m\u001b[0;34m,\u001b[0m \u001b[0maxis\u001b[0m\u001b[0;34m=\u001b[0m\u001b[0;36m0\u001b[0m\u001b[0;34m)\u001b[0m\u001b[0;34m\u001b[0m\u001b[0;34m\u001b[0m\u001b[0m\n\u001b[1;32m     35\u001b[0m     \u001b[0mnp\u001b[0m\u001b[0;34m.\u001b[0m\u001b[0msave\u001b[0m\u001b[0;34m(\u001b[0m\u001b[0mname_temporary_input_opensim\u001b[0m\u001b[0;34m,\u001b[0m \u001b[0mmean_activation\u001b[0m\u001b[0;34m)\u001b[0m\u001b[0;34m\u001b[0m\u001b[0;34m\u001b[0m\u001b[0m\n",
            "\u001b[0;32m/usr/local/lib/python3.11/dist-packages/brian2/units/fundamentalunits.py\u001b[0m in \u001b[0;36m__getitem__\u001b[0;34m(self, key)\u001b[0m\n\u001b[1;32m   1491\u001b[0m         single integer or a tuple of integers) retain their unit.\n\u001b[1;32m   1492\u001b[0m         \"\"\"\n\u001b[0;32m-> 1493\u001b[0;31m         \u001b[0;32mreturn\u001b[0m \u001b[0mQuantity\u001b[0m\u001b[0;34m(\u001b[0m\u001b[0mnp\u001b[0m\u001b[0;34m.\u001b[0m\u001b[0mndarray\u001b[0m\u001b[0;34m.\u001b[0m\u001b[0m__getitem__\u001b[0m\u001b[0;34m(\u001b[0m\u001b[0mself\u001b[0m\u001b[0;34m,\u001b[0m \u001b[0mkey\u001b[0m\u001b[0;34m)\u001b[0m\u001b[0;34m,\u001b[0m \u001b[0mself\u001b[0m\u001b[0;34m.\u001b[0m\u001b[0mdim\u001b[0m\u001b[0;34m)\u001b[0m\u001b[0;34m\u001b[0m\u001b[0;34m\u001b[0m\u001b[0m\n\u001b[0m\u001b[1;32m   1494\u001b[0m \u001b[0;34m\u001b[0m\u001b[0m\n\u001b[1;32m   1495\u001b[0m     \u001b[0;32mdef\u001b[0m \u001b[0mitem\u001b[0m\u001b[0;34m(\u001b[0m\u001b[0mself\u001b[0m\u001b[0;34m,\u001b[0m \u001b[0;34m*\u001b[0m\u001b[0margs\u001b[0m\u001b[0;34m)\u001b[0m\u001b[0;34m:\u001b[0m\u001b[0;34m\u001b[0m\u001b[0;34m\u001b[0m\u001b[0m\n",
            "\u001b[0;31mIndexError\u001b[0m: only integers, slices (`:`), ellipsis (`...`), numpy.newaxis (`None`) and integer or boolean arrays are valid indices"
          ]
        }
      ]
    }
  ]
}